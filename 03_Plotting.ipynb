{
 "cells": [
  {
   "cell_type": "markdown",
   "metadata": {},
   "source": [
    "# (Interactive) Plotting using Matplotlib and Seaborn\n",
    "\n",
    "[Matplotlib](http://matplotlib.org) is a basic plotting library for Python inspired by Matlab. [Seaborn](http://stanford.edu/~mwaskom/software/seaborn) is built on top of it with integrated analysis, specialized plots, and pretty good integration with Pandas.\n",
    "\n",
    "Also see [the full gallery of Seaborn](http://stanford.edu/~mwaskom/software/seaborn/examples/index.html) or [Matplotlib](http://matplotlib.org/gallery.html).\n"
   ]
  },
  {
   "cell_type": "code",
   "execution_count": null,
   "metadata": {
    "collapsed": true
   },
   "outputs": [],
   "source": [
    "#disable some annoying warnings\n",
    "import warnings\n",
    "warnings.filterwarnings('ignore', category=FutureWarning)\n",
    "\n",
    "#plots the figures in place instead of a new window\n",
    "%matplotlib inline\n",
    "\n",
    "import matplotlib.pyplot as plt\n",
    "import seaborn as sns\n",
    "\n",
    "import pandas as pd\n",
    "import numpy as np"
   ]
  },
  {
   "cell_type": "code",
   "execution_count": null,
   "metadata": {
    "collapsed": false
   },
   "outputs": [],
   "source": [
    "#use a standard dataset of heterogenous data\n",
    "cars = pd.read_csv('data/mtcars.csv')\n",
    "cars.head()"
   ]
  },
  {
   "cell_type": "markdown",
   "metadata": {},
   "source": [
    "## Scatterplot"
   ]
  },
  {
   "cell_type": "code",
   "execution_count": null,
   "metadata": {
    "collapsed": false
   },
   "outputs": [],
   "source": [
    "plt.scatter(x=cars['mpg'],y=cars['wt'])\n",
    "plt.xlabel('miles per gallon')\n",
    "plt.ylabel('weight')\n",
    "plt.title('MPG vs WT')\n",
    "plt.show()"
   ]
  },
  {
   "cell_type": "code",
   "execution_count": null,
   "metadata": {
    "collapsed": false
   },
   "outputs": [],
   "source": [
    "#integrated in pandas, too\n",
    "cars.plot(x='mpg',y='wt',kind='scatter')"
   ]
  },
  {
   "cell_type": "code",
   "execution_count": null,
   "metadata": {
    "collapsed": false
   },
   "outputs": [],
   "source": [
    "cars.plot(kind='scatter', x='mpg',y='wt',c='hp',s=cars['cyl']*20,alpha=0.5)"
   ]
  },
  {
   "cell_type": "code",
   "execution_count": null,
   "metadata": {
    "collapsed": false
   },
   "outputs": [],
   "source": [
    "#what if we plot everything?\n",
    "cars.plot()"
   ]
  },
  {
   "cell_type": "markdown",
   "metadata": {},
   "source": [
    "## Histogram"
   ]
  },
  {
   "cell_type": "code",
   "execution_count": null,
   "metadata": {
    "collapsed": false
   },
   "outputs": [],
   "source": [
    "cars['mpg'].hist(bins=5)"
   ]
  },
  {
   "cell_type": "code",
   "execution_count": null,
   "metadata": {
    "collapsed": false
   },
   "outputs": [],
   "source": [
    "plt.hist(cars['mpg'],bins=5)\n",
    "plt.title('miles per gallon')"
   ]
  },
  {
   "cell_type": "code",
   "execution_count": null,
   "metadata": {
    "collapsed": false
   },
   "outputs": [],
   "source": [
    "#seaborn not just a histogram but also an kernel density enstimation and better default settings\n",
    "sns.distplot(cars['mpg'],bins=5)"
   ]
  },
  {
   "cell_type": "markdown",
   "metadata": {},
   "source": [
    "# Box plots"
   ]
  },
  {
   "cell_type": "code",
   "execution_count": null,
   "metadata": {
    "collapsed": false
   },
   "outputs": [],
   "source": [
    "#box plots\n",
    "cars['mpg'].plot(kind='box')"
   ]
  },
  {
   "cell_type": "code",
   "execution_count": null,
   "metadata": {
    "collapsed": false
   },
   "outputs": [],
   "source": [
    "cars.boxplot('mpg')"
   ]
  },
  {
   "cell_type": "code",
   "execution_count": null,
   "metadata": {
    "collapsed": false
   },
   "outputs": [],
   "source": [
    "#group by gear\n",
    "cars.boxplot('mpg', by='gear')"
   ]
  },
  {
   "cell_type": "code",
   "execution_count": null,
   "metadata": {
    "collapsed": false
   },
   "outputs": [],
   "source": [
    "# load gapminder again and select 2007\n",
    "gap = pd.read_csv('data/gapminder-unfiltered.tsv',index_col=0, sep='\\t')\n",
    "gap2007 = gap[gap.year == 2007]\n",
    "gap2007.columns"
   ]
  },
  {
   "cell_type": "markdown",
   "metadata": {},
   "source": [
    "## Log scale"
   ]
  },
  {
   "cell_type": "code",
   "execution_count": null,
   "metadata": {
    "collapsed": false
   },
   "outputs": [],
   "source": [
    "gap2007.plot(kind='scatter', x='lifeExp',y='gdpPercap')"
   ]
  },
  {
   "cell_type": "markdown",
   "metadata": {},
   "source": [
    "unbalanced with outliers what about log scale?"
   ]
  },
  {
   "cell_type": "code",
   "execution_count": null,
   "metadata": {
    "collapsed": false
   },
   "outputs": [],
   "source": [
    "gap2007.plot(kind='scatter', x='lifeExp',y='gdpPercap')\n",
    "plt.yscale('log')"
   ]
  },
  {
   "cell_type": "markdown",
   "metadata": {},
   "source": [
    "## Grouping / coloring plots\n",
    "\n",
    "How to group by color?"
   ]
  },
  {
   "cell_type": "code",
   "execution_count": null,
   "metadata": {
    "collapsed": false
   },
   "outputs": [],
   "source": [
    "#create a color palette\n",
    "colors = sns.color_palette()\n",
    "sns.palplot(colors)"
   ]
  },
  {
   "cell_type": "code",
   "execution_count": null,
   "metadata": {
    "collapsed": false
   },
   "outputs": [],
   "source": [
    "#for each group create an own plot an overlay them\n",
    "for (name, group),color in zip(gap2007.groupby('continent'),colors):\n",
    "    plt.scatter(x=group['lifeExp'],y=group['gdpPercap'],label=name, c=color,s=30)\n",
    "plt.yscale('log')\n",
    "plt.legend()"
   ]
  },
  {
   "cell_type": "code",
   "execution_count": null,
   "metadata": {
    "collapsed": false
   },
   "outputs": [],
   "source": [
    "#playing with categories ... seaborn is pretty good with it\n",
    "plt.figure(figsize=(40,20))\n",
    "plt.subplot(121)\n",
    "sns.boxplot(x='continent',y='gdpPercap',data=gap)\n",
    "\n",
    "plt.subplot(122)\n",
    "sns.violinplot(x='continent',y='gdpPercap',data=gap2007)"
   ]
  },
  {
   "cell_type": "code",
   "execution_count": null,
   "metadata": {
    "collapsed": false
   },
   "outputs": [],
   "source": [
    "# or with linear regression\n",
    "\n",
    "anscombe = sns.load_dataset(\"anscombe\")\n",
    "sns.lmplot('x','y',col='dataset',hue='dataset', data=anscombe, col_wrap=2)\n",
    "#g = sns.FacetGrid(anscombe, col=\"dataset\", size=4, aspect=1)\n",
    "#g.map(sns.regplot, \"x\", \"y\")"
   ]
  },
  {
   "cell_type": "code",
   "execution_count": null,
   "metadata": {
    "collapsed": false
   },
   "outputs": [],
   "source": [
    "# or with structured heatmaps\n",
    "\n",
    "#compute the correlations and take a look at them\n",
    "corrmat = gap.corr()\n",
    "\n",
    "# draw a clustered heatmap using seaborn\n",
    "sns.clustermap(corrmat, square=True)"
   ]
  },
  {
   "cell_type": "markdown",
   "metadata": {},
   "source": [
    "## TASK\n",
    "> Create a scatterplot where \n",
    "> * x = lifeExp \n",
    "> * y = gdpPerCap\n",
    "> * color = continent\n",
    "> * size = pop\n",
    ">\n",
    "> Label the axis appropiately and use a log scale for gdp."
   ]
  },
  {
   "cell_type": "code",
   "execution_count": null,
   "metadata": {
    "collapsed": false
   },
   "outputs": [],
   "source": [
    "#for each group create an own plot an overlay them\n",
    "pop_max = gap2007['pop'].max()\n",
    "for (name, group),color in zip(gap2007.groupby('continent'),colors):\n",
    "    plt.scatter(x=group['lifeExp'],y=group['gdpPercap'],label=name, c=color,s=(group['pop']/pop_max)*400)\n",
    "plt.yscale('log')\n",
    "plt.title('Life Expectancy vs GDP')\n",
    "plt.xlabel('Life Expectancy')\n",
    "plt.ylabel('GDP Per Cap')\n",
    "plt.legend()"
   ]
  },
  {
   "cell_type": "markdown",
   "metadata": {},
   "source": [
    "## Interactive plots\n",
    "\n",
    "Simple interaction is possible with IPython by default. That means whenever the user changes some parameter the visualization is recreated on the server-side and sent to the client. "
   ]
  },
  {
   "cell_type": "code",
   "execution_count": null,
   "metadata": {
    "collapsed": false
   },
   "outputs": [],
   "source": [
    "from IPython.html.widgets import interact, interact_manual"
   ]
  },
  {
   "cell_type": "code",
   "execution_count": null,
   "metadata": {
    "collapsed": false
   },
   "outputs": [],
   "source": [
    "@interact(text='Hello', slider=(0,10),check=True,categories=['red','green','blue'])\n",
    "def react(text, slider,check,categories):\n",
    "    print(text,slider*10,check,categories)"
   ]
  },
  {
   "cell_type": "code",
   "execution_count": null,
   "metadata": {
    "collapsed": false
   },
   "outputs": [],
   "source": [
    "@interact_manual(text='Hello', slider=(0,10),check=True,categories=['red','green','blue'])\n",
    "def react(text, slider,check,categories):\n",
    "    print(text,slider*10,check,categories)"
   ]
  },
  {
   "cell_type": "code",
   "execution_count": null,
   "metadata": {
    "collapsed": false
   },
   "outputs": [],
   "source": [
    "@interact(bins=(5, 25, 5),color=['red','green','orange','blue'])\n",
    "def show_distplot(bins,color):\n",
    "    cars['mpg'].hist(bins=bins, color=color)"
   ]
  },
  {
   "cell_type": "markdown",
   "metadata": {},
   "source": [
    "# Custom-built widgets\n",
    "\n",
    "http://nbviewer.ipython.org/github/ipython/ipython/blob/3.x/examples/Interactive%20Widgets/Widget%20List.ipynb "
   ]
  },
  {
   "cell_type": "code",
   "execution_count": null,
   "metadata": {
    "collapsed": false
   },
   "outputs": [],
   "source": [
    "from IPython.html import widgets\n",
    "\n",
    "[widget for widget in dir(widgets) if not widget.endswith('Widget') and widget[0] == widget[0].upper() and widget[0] != '_']"
   ]
  },
  {
   "cell_type": "code",
   "execution_count": null,
   "metadata": {
    "collapsed": false
   },
   "outputs": [],
   "source": [
    "@interact(bins=widgets.FloatText(value=5))\n",
    "def show_distplot(bins):\n",
    "    cars['mpg'].hist(bins=bins)"
   ]
  },
  {
   "cell_type": "code",
   "execution_count": null,
   "metadata": {
    "collapsed": false
   },
   "outputs": [],
   "source": [
    "text_widget = widgets.Textarea(value='Hello', description='text area')\n",
    "slider_widget = widgets.BoundedFloatText(5,min=0,max=10, description='slider area')\n",
    "check_widget = widgets.Checkbox(True,description=\"CheckboxWidget\")\n",
    "toggle = widgets.RadioButtons(options=['red','green','blue'], description=\"RadioButtonsWidget\")\n",
    "\n",
    "@interact(text=text_widget, slider=slider_widget,check=check_widget,categories=toggle)\n",
    "def react(text, slider,check,categories):\n",
    "    print(text,slider*10,check,categories)"
   ]
  },
  {
   "cell_type": "code",
   "execution_count": null,
   "metadata": {
    "collapsed": false
   },
   "outputs": [],
   "source": [
    "b = widgets.Button(description=\"Update\")\n",
    "checkbox = widgets.Checkbox(description=\"CheckboxWidget\")\n",
    "\n",
    "tab1_children = [b,\n",
    "                 checkbox,\n",
    "                 widgets.Dropdown(options=['A','B'], description=\"DropdownWidget\"),\n",
    "                 widgets.RadioButtons(options=['A','B'], description=\"RadioButtonsWidget\"),\n",
    "                 widgets.Select(options=['A','B'], description=\"SelectWidget\"),\n",
    "                 widgets.Text(description=\"TextWidget\"),\n",
    "                 widgets.Textarea(description=\"TextareaWidget\"),\n",
    "                 widgets.ToggleButton(description=\"ToggleButtonWidget\"),\n",
    "                 widgets.ToggleButtons(options=[\"Value 1\", \"Value2\"], description=\"ToggleButtonsWidget\"),\n",
    "                 ]\n",
    "\n",
    "tab2_children = [widgets.BoundedFloatText(description=\"BoundedFloatTextWidget\"),\n",
    "                 widgets.BoundedIntText(description=\"BoundedIntTextWidget\"),\n",
    "                 widgets.FloatSlider(description=\"FloatSliderWidget\"),\n",
    "                 widgets.FloatText(description=\"FloatTextWidget\"),\n",
    "                 widgets.IntSlider(description=\"IntSliderWidget\"),\n",
    "                 widgets.IntText(description=\"IntTextWidget\"),\n",
    "                 ]\n",
    "\n",
    "tab1 = widgets.Box(children=tab1_children)\n",
    "tab2 = widgets.Box(children=tab2_children)\n",
    "\n",
    "\n",
    "i = widgets.Accordion(children=[tab1, tab2])\n",
    "\n",
    "i.set_title(0,\"Basic Widgets\")\n",
    "i.set_title(1,\"Numbers Input\")\n",
    "\n",
    "from IPython.display import display\n",
    "\n",
    "def button_clicked(bb):\n",
    "    print(checkbox.value)\n",
    "    #TODO update plot\n",
    "\n",
    "b.on_click(button_clicked)\n",
    "\n",
    "display(i)"
   ]
  },
  {
   "cell_type": "markdown",
   "metadata": {},
   "source": [
    "## TASK\n",
    "> Convert the static plot from before into an interactive one where you can slide through the year."
   ]
  },
  {
   "cell_type": "code",
   "execution_count": null,
   "metadata": {
    "collapsed": false
   },
   "outputs": [],
   "source": []
  },
  {
   "cell_type": "markdown",
   "metadata": {},
   "source": [
    "## Next\n",
    "\n",
    "[Machine Learning using Scikit Learn](04_MachineLearning.ipynb)"
   ]
  }
 ],
 "metadata": {
  "anaconda-cloud": {},
  "kernelspec": {
   "display_name": "Python [default]",
   "language": "python",
   "name": "python3"
  },
  "language_info": {
   "codemirror_mode": {
    "name": "ipython",
    "version": 3
   },
   "file_extension": ".py",
   "mimetype": "text/x-python",
   "name": "python",
   "nbconvert_exporter": "python",
   "pygments_lexer": "ipython3",
   "version": "3.5.2"
  }
 },
 "nbformat": 4,
 "nbformat_minor": 0
}
