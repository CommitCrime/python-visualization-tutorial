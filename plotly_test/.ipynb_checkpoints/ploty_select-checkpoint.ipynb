{
 "cells": [
  {
   "cell_type": "code",
   "execution_count": 4,
   "metadata": {},
   "outputs": [],
   "source": [
    "# See https://github.com/plotly/plotly.py  and https://plot.ly/~empet/14975/brushingselected-points-h/#/\n",
    "import plotly.graph_objs as go\n",
    "import numpy as np"
   ]
  },
  {
   "cell_type": "code",
   "execution_count": 5,
   "metadata": {},
   "outputs": [],
   "source": [
    "x=-2+5*np.random.rand(50)\n",
    "y=3+4*np.random.rand(50)\n",
    "\n",
    "trace1=dict(type='scatter',\n",
    "            x=x,\n",
    "            y=y,\n",
    "            mode='markers',\n",
    "            \n",
    "            marker=dict(color=np.zeros(x.shape[0]),\n",
    "                        colorscale=[[0, 'blue'], \n",
    "                                   [1., 'red']], \n",
    "                        size=10, \n",
    "                        showscale=False)\n",
    "           )\n",
    "\n",
    "layout=dict(width=600, \n",
    "            height=550, \n",
    "            autosize=False,\n",
    "            xaxis=dict(zeroline=False),\n",
    "            dragmode='lasso',\n",
    "            hovermode='closest')"
   ]
  },
  {
   "cell_type": "code",
   "execution_count": 6,
   "metadata": {},
   "outputs": [],
   "source": [
    "fw = go.FigureWidget(data=[trace1], layout=layout)"
   ]
  },
  {
   "cell_type": "code",
   "execution_count": 46,
   "metadata": {},
   "outputs": [
    {
     "data": {
      "application/vnd.jupyter.widget-view+json": {
       "model_id": "1855926a22854baf830c322689eedc3c",
       "version_major": 2,
       "version_minor": 0
      },
      "text/plain": [
       "FigureWidget({\n",
       "    'data': [{'marker': {'color': array([0., 0., 0., 0., 0., 1., 0., 0., 0., 0., 0., 0., 0., 0.…"
      ]
     },
     "metadata": {},
     "output_type": "display_data"
    }
   ],
   "source": [
    "fw"
   ]
  },
  {
   "cell_type": "code",
   "execution_count": 47,
   "metadata": {},
   "outputs": [
    {
     "data": {
      "application/vnd.jupyter.widget-view+json": {
       "model_id": "1855926a22854baf830c322689eedc3c",
       "version_major": 2,
       "version_minor": 0
      },
      "text/plain": [
       "FigureWidget({\n",
       "    'data': [{'marker': {'color': array([0., 0., 0., 0., 0., 1., 0., 0., 0., 0., 0., 0., 0., 0.…"
      ]
     },
     "metadata": {},
     "output_type": "display_data"
    }
   ],
   "source": [
    "def brush(trace, points, state):\n",
    "    inds = np.array(points.point_inds)\n",
    "    if inds.size:\n",
    "        selected = np.zeros(len(trace.x))\n",
    "        selected[inds] = 1\n",
    "        trace.marker.color = selected#now the trace marker color is a list of 0 and 1; we have 0 at the position of unselected\n",
    "                                     #points and 1 in the position of selected points \n",
    "        \n",
    "fw.data[0].on_selection(brush)\n",
    "fw"
   ]
  },
  {
   "cell_type": "code",
   "execution_count": 51,
   "metadata": {},
   "outputs": [
    {
     "data": {
      "text/plain": [
       "(array([0.75490809, 0.66890195, 0.83192365, 0.68319574]),\n",
       " array([3.69053666, 3.87592916, 3.64721213, 3.10485176]))"
      ]
     },
     "execution_count": 51,
     "metadata": {},
     "output_type": "execute_result"
    }
   ],
   "source": [
    "mark_states = fw.data[0].marker.color.astype(bool) # to bool to mask the data array\n",
    "(x[mark_states], y[mark_states]) "
   ]
  },
  {
   "cell_type": "code",
   "execution_count": 49,
   "metadata": {},
   "outputs": [
    {
     "data": {
      "text/plain": [
       "array([0., 0., 0., 0., 0., 1., 0., 0., 0., 0., 0., 0., 0., 0., 0., 0., 0.,\n",
       "       0., 0., 0., 0., 0., 0., 0., 0., 0., 0., 0., 0., 0., 0., 0., 0., 0.,\n",
       "       0., 0., 0., 0., 0., 0., 0., 0., 0., 0., 0., 0., 0., 0., 0., 0.])"
      ]
     },
     "execution_count": 49,
     "metadata": {},
     "output_type": "execute_result"
    }
   ],
   "source": [
    "fw.data[0].marker.color\n"
   ]
  }
 ],
 "metadata": {
  "kernelspec": {
   "display_name": "Python 3",
   "language": "python",
   "name": "python3"
  },
  "language_info": {
   "codemirror_mode": {
    "name": "ipython",
    "version": 3
   },
   "file_extension": ".py",
   "mimetype": "text/x-python",
   "name": "python",
   "nbconvert_exporter": "python",
   "pygments_lexer": "ipython3",
   "version": "3.7.1"
  }
 },
 "nbformat": 4,
 "nbformat_minor": 2
}
