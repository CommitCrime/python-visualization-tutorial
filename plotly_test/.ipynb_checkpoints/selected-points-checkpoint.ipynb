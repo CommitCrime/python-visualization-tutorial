{
 "cells": [
  {
   "cell_type": "markdown",
   "metadata": {},
   "source": [
    "## <center> Brushing/selected points<br> [https://community.plot.ly/t/selected-points/12596](https://community.plot.ly/t/selected-points/12596)"
   ]
  },
  {
   "cell_type": "markdown",
   "metadata": {},
   "source": [
    "Brushing is an interaction technique in data viz. It consists in mouse selecting  of a subset of the data items and highligting\n",
    "that data.\n",
    "\n",
    "In this notebook we illustrate brushing of a subset of points in a scatter plot."
   ]
  },
  {
   "cell_type": "code",
   "execution_count": 1,
   "metadata": {},
   "outputs": [
    {
     "ename": "ImportError",
     "evalue": "No module named plotly.graph_objs",
     "output_type": "error",
     "traceback": [
      "\u001b[0;31m---------------------------------------------------------------------------\u001b[0m",
      "\u001b[0;31mImportError\u001b[0m                               Traceback (most recent call last)",
      "\u001b[0;32m<ipython-input-1-f775c5062732>\u001b[0m in \u001b[0;36m<module>\u001b[0;34m()\u001b[0m\n\u001b[0;32m----> 1\u001b[0;31m \u001b[0;32mfrom\u001b[0m \u001b[0mplotly\u001b[0m\u001b[0;34m.\u001b[0m\u001b[0mgraph_objs\u001b[0m \u001b[0;32mimport\u001b[0m \u001b[0mFigureWidget\u001b[0m\u001b[0;34m\u001b[0m\u001b[0m\n\u001b[0m\u001b[1;32m      2\u001b[0m \u001b[0;32mimport\u001b[0m \u001b[0mnumpy\u001b[0m \u001b[0;32mas\u001b[0m \u001b[0mnp\u001b[0m\u001b[0;34m\u001b[0m\u001b[0m\n",
      "\u001b[0;31mImportError\u001b[0m: No module named plotly.graph_objs"
     ]
    }
   ],
   "source": [
    "from plotly.graph_objs import FigureWidget\n",
    "import numpy as np"
   ]
  },
  {
   "cell_type": "code",
   "execution_count": 2,
   "metadata": {},
   "outputs": [],
   "source": [
    "x=-2+5*np.random.rand(50)\n",
    "y=3+4*np.random.rand(50)\n",
    "\n",
    "trace1=dict(type='scatter',\n",
    "            x=x,\n",
    "            y=y,\n",
    "            mode='markers',\n",
    "            \n",
    "            marker=dict(color=np.zeros(x.shape[0]),\n",
    "                        colorscale=[[0, 'blue'], \n",
    "                                   [1., 'red']], \n",
    "                        size=10, \n",
    "                        showscale=False)\n",
    "           )\n",
    "\n",
    "layout=dict(width=600, \n",
    "            height=550, \n",
    "            autosize=False,\n",
    "            xaxis=dict(zeroline=False),\n",
    "            dragmode='lasso',\n",
    "            hovermode='closest')\n",
    "\n",
    "fw=FigureWidget(data=[trace1], layout=layout)\n"
   ]
  },
  {
   "cell_type": "markdown",
   "metadata": {},
   "source": [
    "The marker colorscale is defined such that the points in the scatter plot are colored  blue before selection,\n",
    " the selected points will be red, while the unselected, blue,  with a low opacity. "
   ]
  },
  {
   "cell_type": "code",
   "execution_count": 3,
   "metadata": {},
   "outputs": [
    {
     "data": {
      "application/vnd.jupyter.widget-view+json": {
       "model_id": "d82b968b95734a058165abf65241f843",
       "version_major": 2,
       "version_minor": 0
      },
      "text/plain": [
       "FigureWidget({\n",
       "    'data': [{'marker': {'color': array([0., 0., 0., 0., 0., 0., 0., 0., 0., 0., 0., 0., 0., 0.…"
      ]
     },
     "metadata": {},
     "output_type": "display_data"
    }
   ],
   "source": [
    "def brush(trace, points, state):\n",
    "    inds = np.array(points.point_inds)\n",
    "    if inds.size:\n",
    "        selected = np.zeros(len(trace.x))\n",
    "        selected[inds] = 1\n",
    "        trace.marker.color = selected#now the trace marker color is a list of 0 and 1; we have 0 at the position of unselected\n",
    "                                     #points and 1 in the position of selected points \n",
    "        \n",
    "fw.data[0].on_selection(brush)   \n",
    "fw"
   ]
  },
  {
   "cell_type": "code",
   "execution_count": 4,
   "metadata": {},
   "outputs": [
    {
     "data": {
      "text/plain": [
       "array([0., 0., 0., 1., 0., 1., 0., 0., 0., 1., 0., 0., 0., 1., 0., 0., 0.,\n",
       "       0., 1., 0., 0., 0., 1., 0., 0., 0., 0., 1., 0., 0., 0., 0., 0., 1.,\n",
       "       1., 0., 0., 0., 0., 1., 0., 0., 0., 1., 0., 0., 1., 0., 0., 0.])"
      ]
     },
     "execution_count": 4,
     "metadata": {},
     "output_type": "execute_result"
    }
   ],
   "source": [
    "fw.data[0].marker.color"
   ]
  },
  {
   "cell_type": "code",
   "execution_count": null,
   "metadata": {},
   "outputs": [],
   "source": []
  }
 ],
 "metadata": {
  "kernelspec": {
   "display_name": "Python 2",
   "language": "python",
   "name": "python2"
  },
  "language_info": {
   "codemirror_mode": {
    "name": "ipython",
    "version": 2
   },
   "file_extension": ".py",
   "mimetype": "text/x-python",
   "name": "python",
   "nbconvert_exporter": "python",
   "pygments_lexer": "ipython2",
   "version": "2.7.15"
  },
  "widgets": {
   "application/vnd.jupyter.widget-state+json": {
    "state": {
     "d82b968b95734a058165abf65241f843": {
      "buffers": [
       {
        "data": "AAAAAAAAAAAAAAAAAAAAAAAAAAAAAAAAAAAAAAAA8D8AAAAAAAAAAAAAAAAAAPA/AAAAAAAAAAAAAAAAAAAAAAAAAAAAAAAAAAAAAAAA8D8AAAAAAAAAAAAAAAAAAAAAAAAAAAAAAAAAAAAAAADwPwAAAAAAAAAAAAAAAAAAAAAAAAAAAAAAAAAAAAAAAAAAAAAAAAAA8D8AAAAAAAAAAAAAAAAAAAAAAAAAAAAAAAAAAAAAAADwPwAAAAAAAAAAAAAAAAAAAAAAAAAAAAAAAAAAAAAAAAAAAAAAAAAA8D8AAAAAAAAAAAAAAAAAAAAAAAAAAAAAAAAAAAAAAAAAAAAAAAAAAAAAAAAAAAAA8D8AAAAAAADwPwAAAAAAAAAAAAAAAAAAAAAAAAAAAAAAAAAAAAAAAAAAAAAAAAAA8D8AAAAAAAAAAAAAAAAAAAAAAAAAAAAAAAAAAAAAAADwPwAAAAAAAAAAAAAAAAAAAAAAAAAAAADwPwAAAAAAAAAAAAAAAAAAAAAAAAAAAAAAAA==",
        "encoding": "base64",
        "path": [
         "_data",
         0,
         "marker",
         "color"
        ]
       },
       {
        "data": "aKa+nO3jyr/Q62EKycfIP6yshN/ldvo/WFZcjigO4b8wifm1c0nhv4yyVylGSuk/rpC63tjy8L9KxSdyIakCQNwExbWKA/Y/8G8VIJAN8j849JaC/nwFQErx3fbYQgBA8jD9jlkQ8D/gPsWfhW6yP0Rohf8hIQVAsG6SKwmX2b+0jQWhKUIAQFx5I3mBAP+/APwG66HL+T8iR4yL/rcBQJw50kfp1AJA2icV90qr/D8CL4T84JLyPyQfsROeTeq/xlns2cRF/z/k2R/QZermP3BFH6qIO+q/NkcUTPVi+z886hRuMzr/PzBxOd9gJv8/QR75Oc3c/7/wfDLed3X9P7u+rYYFDv2/iJRe8ZDx9T8oG8MFASLpP2zVqmiH5QVAaMdTx8OB/78oQnggMFXmP9MHrfHvdfi/9D46B6YT+T94a8anq2f3v3INzxlwZAVAUCx93lJ9/j+0qmhP8L/zPxBeoZWdFP6/DE/3v7I56b8I/2/b/FrZP+xJzpWzlgFAhmZXinEDBUB837o6oQTrvw==",
        "encoding": "base64",
        "path": [
         "_data",
         0,
         "x"
        ]
       },
       {
        "data": "9N/fuu3PEECZnvcHWUMZQNQ1/lh0/hdAquuU+56TFEDo454pW1IYQJxqwq09RhJAwC8ruMw/EUDyBYzxs4YUQPwhtljdMBpACOr3rUuBFUA6KjC73cYbQGcIbJvJRBpAmDvKYfbbGkBdq8rgeC8TQH3y8jK8nhVAZwrPgHPDC0BsGP4w6L8RQFjGz45unxlAcAFiimNfFUDEp9/M+qAYQK5NSiFezhJAN9lJe+OVDEDeNMy9qQsUQJ6h0ky/GBBAc7edXJrKFEBgJPgQjXoQQKTxlb+RyRpA6Cah2onnEkDXYMddO2QPQMVwFmXQLBdAel0GK+1YF0AodYEPeeEaQIjAfnCcDhhAniktcwBHFkAoqrAmjJAXQP54+p7NbBlAOlWlPbBXGUD7TA4KL6QPQO7Zt1ybZhpA5Id3rqRjE0Blh6IZRHAKQLgwQjWV0xpA7BSrN8gMFUB4OLPZowEXQA4b0X5NVxVA0vkrwezpF0Bw5GRZXKcRQGEpiIzWthFApEYfyvHPEECMh2H+KHUQQA==",
        "encoding": "base64",
        "path": [
         "_data",
         0,
         "y"
        ]
       }
      ],
      "model_module": "plotlywidget",
      "model_module_version": "^0.2.1",
      "model_name": "FigureModel",
      "state": {
       "_data": [
        {
         "marker": {
          "color": {},
          "colorscale": [
           [
            0,
            "blue"
           ],
           [
            1,
            "red"
           ]
          ],
          "showscale": false,
          "size": 10
         },
         "mode": "markers",
         "type": "scatter",
         "uid": "a716c8f8-a12a-11e8-b327-87fa9c55cbd2",
         "x": {},
         "y": {}
        }
       ],
       "_js2py_relayout": {},
       "_js2py_restyle": {},
       "_js2py_update": {},
       "_last_layout_edit_id": 1,
       "_last_trace_edit_id": 1,
       "_layout": {
        "autosize": false,
        "dragmode": "lasso",
        "height": 550,
        "hovermode": "closest",
        "width": 600,
        "xaxis": {
         "zeroline": false
        }
       },
       "_py2js_addTraces": {},
       "_py2js_animate": {},
       "_py2js_deleteTraces": {},
       "_py2js_moveTraces": {},
       "_py2js_relayout": {},
       "_py2js_removeLayoutProps": {},
       "_py2js_removeTraceProps": {},
       "_py2js_update": {},
       "_view_count": 1
      }
     }
    },
    "version_major": 2,
    "version_minor": 0
   }
  }
 },
 "nbformat": 4,
 "nbformat_minor": 2
}
