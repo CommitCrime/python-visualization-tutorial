{
 "cells": [
  {
   "cell_type": "markdown",
   "metadata": {},
   "source": [
    "# Introduction\n",
    "\n",
    "Welcome to this Python tutorial that is held as part of the Visual Analytics course at JKU Linz. This tutorial is based on a tutorial given by [Stéfan van der Walt](https://github.com/stefanv) (@stefanvdwalt)  at VIS 2015. \n",
    "\n",
    "Source code on GitHub: https://github.com/mstreit/ipython-tutorial-VA2016 \n",
    "\n",
    "Deployed Jupyter Notebook: http://mybinder.org/repo/mstreit/ipython-tutorial-VA2016 [![Binder](http://mybinder.org/badge.svg)](http://mybinder.org/repo/mstreit/ipython-tutorial-VA2016)\n",
    "\n",
    "We will cover the following topics in roughly 1.5 hours. \n",
    "\n",
    "1. [Getting Started](01_GettingStarted.ipynb)\n",
    "2. [Data Manipulation with Numpy and Pandas](02_DataManipulation.ipynb)\n",
    "3. [(Interactive) Plotting using Matplotlib and Seaborn](03_Plotting.ipynb)\n",
    "4. [Machine Learning using Scikit Learn: Clustering, Decision Tree, and MDS](04_MachineLearning.ipynb)\n"
   ]
  }
 ],
 "metadata": {
  "anaconda-cloud": {},
  "kernelspec": {
   "display_name": "Python [default]",
   "language": "python",
   "name": "python3"
  },
  "language_info": {
   "codemirror_mode": {
    "name": "ipython",
    "version": 3
   },
   "file_extension": ".py",
   "mimetype": "text/x-python",
   "name": "python",
   "nbconvert_exporter": "python",
   "pygments_lexer": "ipython3",
   "version": "3.5.2"
  }
 },
 "nbformat": 4,
 "nbformat_minor": 0
}
