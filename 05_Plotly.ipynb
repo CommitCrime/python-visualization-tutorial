{
 "cells": [
  {
   "cell_type": "markdown",
   "metadata": {},
   "source": [
    "# Visualization with Plotly\n",
    "[Plotly](https://plot.ly/python/) is another plotting library for python."
   ]
  },
  {
   "cell_type": "code",
   "execution_count": 59,
   "metadata": {},
   "outputs": [],
   "source": [
    "# See https://github.com/plotly/plotly.py and https://plot.ly/python/figurewidget/\n",
    "import plotly.graph_objs as go\n",
    "\n",
    "import pandas as pd\n",
    "import numpy as np"
   ]
  },
  {
   "cell_type": "code",
   "execution_count": 60,
   "metadata": {},
   "outputs": [],
   "source": [
    "#use a standard dataset of heterogenous data\n",
    "cars = pd.read_csv('data/mtcars.csv')"
   ]
  },
  {
   "cell_type": "markdown",
   "metadata": {},
   "source": [
    "## Scatterplot"
   ]
  },
  {
   "cell_type": "code",
   "execution_count": 61,
   "metadata": {},
   "outputs": [
    {
     "data": {
      "application/vnd.jupyter.widget-view+json": {
       "model_id": "c7698ab565ff44c48c77921821e0ae7d",
       "version_major": 2,
       "version_minor": 0
      },
      "text/plain": [
       "RmlndXJlV2lkZ2V0KHsKICAgICdkYXRhJzogW3snbW9kZSc6ICdtYXJrZXJzJywKICAgICAgICAgICAgICAndHlwZSc6ICdzY2F0dGVyJywKICAgICAgICAgICAgICAndWlkJzogJ2M5NDIwNDXigKY=\n"
      ]
     },
     "metadata": {},
     "output_type": "display_data"
    }
   ],
   "source": [
    "# Create a trace\n",
    "trace = go.Scatter(\n",
    "    x = cars['mpg'],\n",
    "    y = cars['wt'],\n",
    "    mode = 'markers'\n",
    ")\n",
    "\n",
    "data = [trace]\n",
    "\n",
    "# Plot and embed in ipython notebook!\n",
    "fw = go.FigureWidget(data=data)\n",
    "fw.layout.title = 'MPG vs WT'\n",
    "fw.layout.xaxis.title = 'miles per gallon'\n",
    "fw.layout.yaxis.title = \"weight\"\n",
    "fw"
   ]
  },
  {
   "cell_type": "markdown",
   "metadata": {},
   "source": [
    "## Interactivity (Brushing)"
   ]
  },
  {
   "cell_type": "code",
   "execution_count": 62,
   "metadata": {},
   "outputs": [
    {
     "data": {
      "application/vnd.jupyter.widget-view+json": {
       "model_id": "cb274752a88c4afeb162daf5a9d0ebe3",
       "version_major": 2,
       "version_minor": 0
      },
      "text/plain": [
       "RmlndXJlV2lkZ2V0KHsKICAgICdkYXRhJzogW3snbW9kZSc6ICdtYXJrZXJzJywKICAgICAgICAgICAgICAndHlwZSc6ICdzY2F0dGVyJywKICAgICAgICAgICAgICAndWlkJzogJzRiOWMwNzfigKY=\n"
      ]
     },
     "metadata": {},
     "output_type": "display_data"
    }
   ],
   "source": [
    "trace = go.Scatter(\n",
    "    x = cars['mpg'],\n",
    "    y = cars['wt'],\n",
    "    mode = 'markers',\n",
    "    marker=dict(color=np.zeros(cars['mpg'].shape[0]), # initially all points are blue (color=0)\n",
    "                colorscale=[[0, 'blue'],  # 0 = unselected = blue\n",
    "                           [1., 'red']])  # 1 = selected = red\n",
    ")\n",
    "\n",
    "layout=dict(dragmode='lasso',\n",
    "            hovermode='closest',\n",
    "            title='MPG vs WT',\n",
    "            xaxis = dict(title='miles per gallon'),\n",
    "            yaxis = dict(title='weight'))\n",
    "\n",
    "fw = go.FigureWidget(data=data, layout=layout)\n",
    "fw"
   ]
  },
  {
   "cell_type": "code",
   "execution_count": 63,
   "metadata": {},
   "outputs": [
    {
     "data": {
      "application/vnd.jupyter.widget-view+json": {
       "model_id": "cb274752a88c4afeb162daf5a9d0ebe3",
       "version_major": 2,
       "version_minor": 0
      },
      "text/plain": [
       "RmlndXJlV2lkZ2V0KHsKICAgICdkYXRhJzogW3snbW9kZSc6ICdtYXJrZXJzJywKICAgICAgICAgICAgICAndHlwZSc6ICdzY2F0dGVyJywKICAgICAgICAgICAgICAndWlkJzogJzRiOWMwNzfigKY=\n"
      ]
     },
     "metadata": {},
     "output_type": "display_data"
    }
   ],
   "source": [
    "# What happens with selected points?\n",
    "def brush(trace, points, state):\n",
    "    inds = np.array(points.point_inds)  # indices of the selected points\n",
    "    if inds.size:\n",
    "        points = np.zeros(len(trace.x)) # initially all my points are unselected --> value 0\n",
    "        points[inds] = 1  # set the selected points value to 1 --> they become red\n",
    "        trace.marker.color = points  # update the markers\n",
    "        \n",
    "fw.data[0].on_selection(brush)\n",
    "fw"
   ]
  },
  {
   "cell_type": "markdown",
   "metadata": {},
   "source": [
    "### Get selected points\n",
    "You can use that color information to get selected data points:"
   ]
  },
  {
   "cell_type": "code",
   "execution_count": 68,
   "metadata": {},
   "outputs": [
    {
     "data": {
      "text/plain": [
       "(array([21. , 21. , 22.8, 21.4, 24.4, 22.8, 21.5, 21.4]),\n",
       " array([2.62 , 2.875, 2.32 , 3.215, 3.19 , 3.15 , 2.465, 2.78 ]))"
      ]
     },
     "execution_count": 68,
     "metadata": {},
     "output_type": "execute_result"
    }
   ],
   "source": [
    "mark_states = fw.data[0].marker.color.astype(bool) # to bool to mask the data array\n",
    "(trace['x'][mark_states], trace['y'][mark_states]) "
   ]
  },
  {
   "cell_type": "code",
   "execution_count": 69,
   "metadata": {},
   "outputs": [
    {
     "data": {
      "application/vnd.jupyter.widget-view+json": {
       "model_id": "489d1edd159645bb83aab40e8f30fc35",
       "version_major": 2,
       "version_minor": 0
      },
      "text/plain": [
       "RmlndXJlV2lkZ2V0KHsKICAgICdkYXRhJzogW3sndHlwZSc6ICdiYXInLAogICAgICAgICAgICAgICd1aWQnOiAnMTAzYzY0NzgtM2MxNy00OGVmLTk3NDAtNTQ2NjU1NGI4MzNmJywKICAgICDigKY=\n"
      ]
     },
     "metadata": {},
     "output_type": "display_data"
    }
   ],
   "source": [
    "tracebar = go.Bar(\n",
    "        x = cars['car'][mark_states],\n",
    "        y = cars['wt'][mark_states],\n",
    "    )\n",
    "\n",
    "dataBar = [tracebar]\n",
    "\n",
    "# Plot and embed in ipython notebook!\n",
    "bar = go.FigureWidget(data=dataBar)\n",
    "bar.layout.title = 'Car Weights'\n",
    "bar.layout.xaxis.title = 'car'\n",
    "bar.layout.yaxis.title = \"weight\"\n",
    "bar"
   ]
  },
  {
   "cell_type": "code",
   "execution_count": null,
   "metadata": {},
   "outputs": [],
   "source": []
  }
 ],
 "metadata": {
  "kernelspec": {
   "display_name": "Python 2",
   "language": "python",
   "name": "python2"
  },
  "language_info": {
   "codemirror_mode": {
    "name": "ipython",
    "version": 2
   },
   "file_extension": ".py",
   "mimetype": "text/x-python",
   "name": "python",
   "nbconvert_exporter": "python",
   "pygments_lexer": "ipython2",
   "version": "2.7.15"
  }
 },
 "nbformat": 4,
 "nbformat_minor": 2
}
